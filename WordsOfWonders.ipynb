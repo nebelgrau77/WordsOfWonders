{
 "cells": [
  {
   "cell_type": "code",
   "execution_count": 19,
   "metadata": {},
   "outputs": [],
   "source": [
    "import os"
   ]
  },
  {
   "cell_type": "code",
   "execution_count": 44,
   "metadata": {},
   "outputs": [],
   "source": [
    "from itertools import permutations"
   ]
  },
  {
   "cell_type": "code",
   "execution_count": 47,
   "metadata": {},
   "outputs": [],
   "source": [
    "def wordgenerator(letters, length, endswith, dictionary):\n",
    "    \n",
    "    '''generates all possible words of a given length\n",
    "    that use the given set of letters and end with a chosen letter.\n",
    "    then checks whether these words are in a supplied dictionary'''\n",
    "        \n",
    "    new_letters = [_ for _ in letters.lower()]\n",
    "    new_letters.remove(endswith)\n",
    "    perms = permutations(new_letters, length-1)\n",
    "    \n",
    "    \n",
    "    \n",
    "    \n",
    "    words = [''.join(p) + endswith for p in perms]\n",
    "    \n",
    "    found = []\n",
    "    \n",
    "    for word in words:\n",
    "        if word in dictionary:\n",
    "            found.append(word)\n",
    "            \n",
    "    print(set(found))"
   ]
  },
  {
   "cell_type": "code",
   "execution_count": 50,
   "metadata": {},
   "outputs": [],
   "source": [
    "with open('words.txt', 'r') as f:\n",
    "    words = f.read().split('\\n')"
   ]
  }
 ],
 "metadata": {
  "kernelspec": {
   "display_name": "Python 3",
   "language": "python",
   "name": "python3"
  },
  "language_info": {
   "codemirror_mode": {
    "name": "ipython",
    "version": 3
   },
   "file_extension": ".py",
   "mimetype": "text/x-python",
   "name": "python",
   "nbconvert_exporter": "python",
   "pygments_lexer": "ipython3",
   "version": "3.7.3"
  }
 },
 "nbformat": 4,
 "nbformat_minor": 4
}
